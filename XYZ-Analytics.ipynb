{
 "cells": [
  {
   "cell_type": "code",
   "execution_count": 2,
   "metadata": {},
   "outputs": [
    {
     "ename": "ModuleNotFoundError",
     "evalue": "No module named 'geopandas'",
     "output_type": "error",
     "traceback": [
      "\u001b[1;31m---------------------------------------------------------------------------\u001b[0m",
      "\u001b[1;31mModuleNotFoundError\u001b[0m                       Traceback (most recent call last)",
      "\u001b[1;32m<ipython-input-2-4b6158157ad5>\u001b[0m in \u001b[0;36m<module>\u001b[1;34m\u001b[0m\n\u001b[0;32m      4\u001b[0m \u001b[1;32mimport\u001b[0m \u001b[0mnumpy\u001b[0m \u001b[1;32mas\u001b[0m \u001b[0mnp\u001b[0m\u001b[1;33m\u001b[0m\u001b[1;33m\u001b[0m\u001b[0m\n\u001b[0;32m      5\u001b[0m \u001b[1;32mfrom\u001b[0m \u001b[0mpandas\u001b[0m\u001b[1;33m.\u001b[0m\u001b[0mplotting\u001b[0m \u001b[1;32mimport\u001b[0m \u001b[0mparallel_coordinates\u001b[0m\u001b[1;33m\u001b[0m\u001b[1;33m\u001b[0m\u001b[0m\n\u001b[1;32m----> 6\u001b[1;33m \u001b[1;32mimport\u001b[0m \u001b[0mgeopandas\u001b[0m \u001b[1;32mas\u001b[0m \u001b[0mgpd\u001b[0m\u001b[1;33m\u001b[0m\u001b[1;33m\u001b[0m\u001b[0m\n\u001b[0m\u001b[0;32m      7\u001b[0m \u001b[1;32mimport\u001b[0m \u001b[0mgeoplot\u001b[0m \u001b[1;32mas\u001b[0m \u001b[0mgplt\u001b[0m\u001b[1;33m\u001b[0m\u001b[1;33m\u001b[0m\u001b[0m\n\u001b[0;32m      8\u001b[0m \u001b[1;32mfrom\u001b[0m \u001b[0mmpl_toolkits\u001b[0m\u001b[1;33m.\u001b[0m\u001b[0maxes_grid1\u001b[0m \u001b[1;32mimport\u001b[0m \u001b[0mmake_axes_locatable\u001b[0m\u001b[1;33m\u001b[0m\u001b[1;33m\u001b[0m\u001b[0m\n",
      "\u001b[1;31mModuleNotFoundError\u001b[0m: No module named 'geopandas'"
     ]
    }
   ],
   "source": [
    "import pandas as pd\n",
    "import seaborn as sns\n",
    "import matplotlib.pyplot as plt \n",
    "import numpy as np\n",
    "from pandas.plotting import parallel_coordinates\n",
    "import geopandas as gpd\n",
    "import geoplot as gplt\n",
    "from mpl_toolkits.axes_grid1 import make_axes_locatable\n",
    "from statsmodels.graphics.mosaicplot import mosaic\n",
    "%matplotlib inline"
   ]
  },
  {
   "cell_type": "code",
   "execution_count": null,
   "metadata": {},
   "outputs": [],
   "source": [
    "headings = [\"age\", \"workclass\", \"fnlwgt\", \"education\", \"education-num\", \"marital_status\", \"occupation\", \\\n",
    "            \"relationship\", \"race\", \"sex\", \"capital-gain\", \"capital-loss\", \"hours-per-week\", \"native-country\",\\\n",
    "            \"salary-range\"]\n",
    "df = pd.read_csv(\"../data/adult.data\", names=headings)\n",
    "\n",
    "df['salary-range'] = df['salary-range'].apply(lambda e: e.strip())\n",
    "df['native-country'] = df['native-country'].apply(lambda e: e.strip())\n",
    "\n",
    "df['one'] = 1\n",
    "\n",
    "df['salary-range-bool'] = df['salary-range'] == \">50K\"\n",
    "\n",
    "df['salary-range-int'] = df['salary-range-bool'].apply(lambda x: 1 if x else 0)\n",
    "\n",
    "df.head()"
   ]
  },
  {
   "cell_type": "code",
   "execution_count": null,
   "metadata": {},
   "outputs": [],
   "source": [
    "df.describe()"
   ]
  },
  {
   "cell_type": "code",
   "execution_count": null,
   "metadata": {},
   "outputs": [],
   "source": [
    "sns.set(font_scale = 1.2)\n",
    "sns.set_style(\"darkgrid\")\n",
    "plt.figure(figsize=(15,7))\n",
    "\n"
   ]
  },
  {
   "cell_type": "code",
   "execution_count": null,
   "metadata": {},
   "outputs": [],
   "source": [
    "plt.figure(figsize=(16, 7))\n",
    "\n",
    "\n",
    "ax = sns.kdeplot(df[df['salary-range'] == '<=50K']['age'])\n",
    "sns.kdeplot(df[df['salary-range'] == '>50K']['age'])\n",
    "\n",
    "ax.set_title('Kernel Density Estimation by Age, split by salary range')\n",
    "ax.set_ylabel('Density')\n",
    "ax.set_xlabel('Age')\n",
    "plt.legend(loc='upper right', labels=['<=50K', '>50K'])\n",
    "\n",
    "# plt.show()\n",
    "plt.savefig(\"images/kde_age_split\", bbox_inches='tight')"
   ]
  },
  {
   "cell_type": "code",
   "execution_count": null,
   "metadata": {},
   "outputs": [],
   "source": [
    "plt.figure(figsize=(16, 7))\n",
    "\n",
    "\n",
    "ax = sns.kdeplot(df['age'])\n",
    "\n",
    "ax.set_title('Kernel Density Estimation by Age')\n",
    "ax.set_ylabel('Density')\n",
    "ax.set_xlabel('Age')\n",
    "\n",
    "# plt.show()\n",
    "plt.savefig(\"images/kde_age_all\", bbox_inches='tight')"
   ]
  },
  {
   "cell_type": "code",
   "execution_count": null,
   "metadata": {},
   "outputs": [],
   "source": [
    "plt.figure(figsize=(10, 10))\n",
    "\n",
    "ax = sns.boxplot(x=\"salary-range\", y=\"age\", data=df)\n",
    "ax = sns.swarmplot(x=\"salary-range\", y=\"age\", data=df.sample(n=1000), color=\".25\")\n",
    "\n",
    "ax.set_title('Salary Range distribution by Age')\n",
    "ax.set_ylabel('Age')\n",
    "ax.set_xlabel('Salary Range')\n",
    "\n",
    "plt.savefig(\"images/salary_range_box_and_whisker\", bbox_inches='tight')"
   ]
  },
  {
   "cell_type": "code",
   "execution_count": null,
   "metadata": {},
   "outputs": [],
   "source": [
    "g = sns.catplot(x=\"occupation\", kind=\"count\", edgecolor=\".6\", hue=\"salary-range\",\n",
    "            data=df, height=10, aspect=2, legend=False);\n",
    "g.set_xticklabels(rotation=90)\n",
    "g.fig.suptitle(\"Distribution of Occupations, split by Salary Range\", y=1.05)\n",
    "plt.legend(loc='upper right')\n",
    "# plt.show()\n",
    "plt.savefig(\"images/occupation_vs_salary_barchart\", bbox_inches='tight')"
   ]
  },
  {
   "cell_type": "code",
   "execution_count": null,
   "metadata": {},
   "outputs": [],
   "source": [
    "g = sns.catplot(x=\"education\", kind=\"count\", edgecolor=\".6\", hue=\"salary-range\",\n",
    "            data=df, height=10, aspect=2, legend=False);\n",
    "g.set_xticklabels(rotation=90)\n",
    "g.fig.suptitle(\"Distribution of Education, split by Salary Range\", y=1.05)\n",
    "plt.legend(loc='upper right')\n",
    "# plt.show()\n",
    "plt.savefig(\"images/education_vs_salary_barchart\", bbox_inches='tight')"
   ]
  },
  {
   "cell_type": "code",
   "execution_count": null,
   "metadata": {},
   "outputs": [],
   "source": [
    "# s = df[[\"education-num\", \"education\"]]\n",
    "s = df[\"education-num\"].astype(str) + df[\"education\"]\n",
    "sorted(list(s.unique()))\n"
   ]
  },
  {
   "cell_type": "code",
   "execution_count": null,
   "metadata": {},
   "outputs": [],
   "source": [
    "import matplotlib.ticker as ticker\n",
    "from matplotlib.colors import ListedColormap\n",
    "\n",
    "\n",
    "fig = plt.figure(figsize=(15,10))\n",
    "\n",
    "pc_df = df[['education-num', 'salary-range-int', 'salary-range']]\n",
    "\n",
    "def normalize(x):\n",
    "    try:\n",
    "        x = x/x.max()\n",
    "        return x\n",
    "    except:\n",
    "        return x\n",
    "\n",
    "pc_df_norm = pc_df.apply(normalize, axis=0)\n",
    "\n",
    "colormap = ListedColormap([[195./255, 139./255, 105./255, 1.0],\n",
    "                          [94./255, 117./255, 160./255, 1.0],])\n",
    "            \n",
    "\n",
    "title = fig.suptitle(\"Parallel Coordinates: Education & Salary Range\", y=0.93)\n",
    "g = parallel_coordinates(pc_df_norm.sample(1000, random_state=3), 'salary-range', \n",
    "                         colormap=colormap)\n",
    "\n",
    "handles, labels = g.get_legend_handles_labels()\n",
    "# sort both labels and handles by labels\n",
    "labels, handles = zip(*sorted(zip(labels, handles), key=lambda t: t[0]))\n",
    "\n",
    "labels = (labels[1], labels[0])\n",
    "handles = (handles[1], handles[0])\n",
    "\n",
    "plt.legend(handles, labels, loc='right')\n",
    "g.set(xticklabels=[\"Education\", \"Salary Range\"])\n",
    "\n",
    "yticklabels = ['',\n",
    " 'Preschool',\n",
    " '1st-4th',\n",
    " '5th-6th',\n",
    " '7th-8th',\n",
    " '9th',\n",
    " '10th',\n",
    " '11th',\n",
    " '12th',\n",
    " 'HS-grad',\n",
    " 'Some-college',\n",
    " 'Assoc-voc',\n",
    " 'Assoc-acdm',\n",
    " 'Bachelors',\n",
    " 'Masters',\n",
    " 'Prof-school',\n",
    " 'Doctorate']\n",
    "\n",
    "plt.yticks(np.arange(0, 1 + 1/16, 1/16))\n",
    "\n",
    "g.set(yticklabels=yticklabels)\n",
    "\n",
    "# plt.show()\n",
    "plt.savefig(\"images/parallel_coordinates\", bbox_inches='tight')"
   ]
  },
  {
   "cell_type": "code",
   "execution_count": null,
   "metadata": {},
   "outputs": [],
   "source": [
    "sns.set(font_scale = 1.3)\n",
    "sns.set_style(\"darkgrid\")\n",
    "plt.figure(figsize=(15,7))\n",
    "\n",
    "plt.xticks(rotation=90)\n",
    "\n",
    "g = sns.barplot(x=df['native-country'][df['native-country'] != \"United-States\"].value_counts().index,\n",
    "            y=df['native-country'][df['native-country'] != \"United-States\"].value_counts().values, color='royalblue')\n",
    "plt.title(\"Native Country (USA removed)\", y=1.03)\n",
    "\n",
    "g.set_ylabel('Count')\n",
    "g.set_xlabel('Native Country')\n",
    "\n",
    "# plt.show()\n",
    "plt.savefig(\"images/native_country_barchart\", bbox_inches='tight')"
   ]
  },
  {
   "cell_type": "code",
   "execution_count": null,
   "metadata": {},
   "outputs": [],
   "source": [
    "us_count = df[df['native-country'] == \"United-States\"]['native-country'].count()\n",
    "others_count = df['native-country'].count() - us_count\n",
    "\n",
    "fig, ax = plt.subplots(figsize=(10, 10), subplot_kw=dict(aspect=\"equal\"))\n",
    "\n",
    "data = [us_count, others_count]\n",
    "classes = [\"US\", \"Other\"]\n",
    "\n",
    "\n",
    "def func(pct, allvals):\n",
    "    absolute = int(pct/100.*np.sum(allvals))\n",
    "    return \"{:.1f}%\\n{:d}\".format(pct, absolute)\n",
    "\n",
    "wedges, texts, autotexts = ax.pie(data, autopct=lambda pct: func(pct, data),\n",
    "                                  textprops=dict(color=\"white\"), \n",
    "                                  wedgeprops=dict(width=0.4), startangle=90,\n",
    "                                  pctdistance=0.8)\n",
    "\n",
    "ax.legend(wedges, classes,\n",
    "          title=\"Native Country\",\n",
    "          loc=\"center left\",\n",
    "          bbox_to_anchor=(0.38, 0, 0.5, 1))\n",
    "\n",
    "ax.set_title(\"Distribution of Native Countries\", fontsize=18, y=0.95)\n",
    "\n",
    "# plt.show()\n",
    "plt.savefig(\"images/distribution_of_native_countries_donut\", bbox_inches='tight')"
   ]
  },
  {
   "cell_type": "code",
   "execution_count": 3,
   "metadata": {},
   "outputs": [
    {
     "ename": "SyntaxError",
     "evalue": "invalid syntax (<ipython-input-3-7aa7cb8eaa83>, line 10)",
     "output_type": "error",
     "traceback": [
      "\u001b[1;36m  File \u001b[1;32m\"<ipython-input-3-7aa7cb8eaa83>\"\u001b[1;36m, line \u001b[1;32m10\u001b[0m\n\u001b[1;33m    sns.set(font_scale = 2)\u001b[0m\n\u001b[1;37m      ^\u001b[0m\n\u001b[1;31mSyntaxError\u001b[0m\u001b[1;31m:\u001b[0m invalid syntax\n"
     ]
    }
   ],
   "source": [
    "country_group = df.groupby('native-country').sum()\n",
    "world = gpd.read_file(gpd.datasets.get_path('naturalearth_lowres'))\n",
    "world_filtered = world.merge(country_group, how='inner', left_on=['name'], right_on=['native-country'])\n",
    "world_filtered2 = world_filtered[~world_filtered['name'].isin([\"United-States\", \"Mexico\"])]\n",
    "fig, ax = plt.subplots(1, 1, figsize=(30, 30), )\n",
    "\n",
    "plt.ylim(-60, 90)\n",
    "world.plot(edgecolor='powderblue', color='white', ax=ax\n",
    "\n",
    "sns.set(font_scale = 2)\n",
    "\n",
    "\n",
    "divider = make_axes_locatable(ax)\n",
    "\n",
    "cax = divider.append_axes(\"right\", size=\"8%\", pad=0.5)\n",
    "\n",
    "plt.ylim(-60, 90)\n",
    "world_filtered2.plot(column='one', ax=ax, cax=cax, cmap='summer_r', \n",
    "                     legend=True, legend_kwds={'label': \"Count\"})\n",
    "\n",
    "ax.get_xaxis().set_ticks([])\n",
    "ax.get_yaxis().set_ticks([])\n",
    "\n",
    "ax.set_title(\"Native Country of respondents (not including USA, Mexico or Unknown)\", fontdict={'fontsize': 32}, \n",
    "             pad=20)\n",
    "# ax.set_ylabel(\"Latitude (deg)\", fontdict={'fontsize': 26}, labelpad=20)\n",
    "# ax.set_xlabel(\"Longitude (deg)\", fontdict={'fontsize': 26}, labelpad=20)\n",
    "\n",
    "# plt.show()\n",
    "\n",
    "plt.savefig(\"images/native_country_geoplot\", bbox_inches='tight')"
   ]
  },
  {
   "cell_type": "code",
   "execution_count": null,
   "metadata": {},
   "outputs": [],
   "source": [
    "    values_array = df['relationship'].unique()\n",
    "    fig, axes = plt.subplots(ncols=1, nrows=len(values_array), figsize=(5,5 * len(values_array)))\n",
    "\n",
    "    for i in range(0, len(values_array)):\n",
    "        sub_df = df[df['relationship'] == values_array[i]]\n",
    "        axes[i].pie([len(sub_df[sub_df[\"salary-range\"] == 0].index), len(sub_df[sub_df[\"salary-range\"] == 1].index)], \\\n",
    "                labels=[\"<=50K\", \">50K\"], autopct='%1.0f%%')\n",
    "        axes[i].set_title(values_array[i])\n",
    "        \n",
    "        \n",
    "    plt.show()"
   ]
  },
  {
   "cell_type": "code",
   "execution_count": null,
   "metadata": {},
   "outputs": [],
   "source": [
    "fig, axes = plt.subplots(ncols=1, nrows=1, figsize=(15,10))\n",
    "mosaic(df, ['sex', 'salary-range'], ax=axes, axes_label=False)\n",
    "plt.title(\"Sex Mosaic\")\n",
    "plt.show()"
   ]
  }
 ],
 "metadata": {
  "kernelspec": {
   "display_name": "Python 3",
   "language": "python",
   "name": "python3"
  },
  "language_info": {
   "codemirror_mode": {
    "name": "ipython",
    "version": 3
   },
   "file_extension": ".py",
   "mimetype": "text/x-python",
   "name": "python",
   "nbconvert_exporter": "python",
   "pygments_lexer": "ipython3",
   "version": "3.7.6"
  }
 },
 "nbformat": 4,
 "nbformat_minor": 4
}
